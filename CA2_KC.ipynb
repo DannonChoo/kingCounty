{
 "cells": [
  {
   "cell_type": "markdown",
   "metadata": {
    "colab_type": "text",
    "collapsed": true,
    "id": "mMnskEWdc_ia"
   },
   "source": [
    "# Assignment 2 Regression\n",
    "Name: Dannon Choo <br>\n",
    "Admin No: p1922503"
   ]
  },
  {
   "cell_type": "code",
   "execution_count": null,
   "metadata": {
    "colab": {
     "base_uri": "https://localhost:8080/",
     "height": 151
    },
    "colab_type": "code",
    "executionInfo": {
     "elapsed": 1350,
     "status": "ok",
     "timestamp": 1597552234270,
     "user": {
      "displayName": "Dannon Choo",
      "photoUrl": "https://lh3.googleusercontent.com/a-/AOh14GhdtUj67GQ_ikEO4rMJN8QzdjQQ8Kv1CIGFq2ib=s64",
      "userId": "13104822539939925533"
     },
     "user_tz": -480
    },
    "id": "rVgul373c_ib",
    "outputId": "db287c82-664d-451a-b695-02dd257d560f"
   },
   "outputs": [
    {
     "name": "stdout",
     "output_type": "stream",
     "text": [
      "************************\n",
      "        Versions        \n",
      "************************\n",
      "Scikit-learn version=0.22.2.post1\n",
      "Numpy version=1.18.5\n",
      "Pandas version=1.0.5\n",
      "Matplotlib version=3.2.2\n",
      "Python version=3.6.9\n"
     ]
    }
   ],
   "source": [
    "# shift-tab to show docstring: highlight and shift-tab: format\n",
    "#?zip()\n",
    "#%lsmagic\n",
    "# Suppress Future Warnings\n",
    "import warnings\n",
    "#warnings.simplefilter(action='ignore', category=FutureWarning)\n",
    "warnings.filterwarnings('ignore')\n",
    "import sklearn\n",
    "import numpy as np\n",
    "import pandas as pd\n",
    "import matplotlib\n",
    "import platform\n",
    "\n",
    "message=\"        Versions        \"\n",
    "print(\"*\"*len(message))\n",
    "print(message)\n",
    "print(\"*\"*len(message))\n",
    "print(\"Scikit-learn version={}\".format(sklearn.__version__))\n",
    "print(\"Numpy version={}\".format(np.__version__))\n",
    "print(\"Pandas version={}\".format(pd.__version__))\n",
    "print(\"Matplotlib version={}\".format(matplotlib.__version__))\n",
    "print(\"Python version={}\".format(platform.python_version()))"
   ]
  },
  {
   "cell_type": "code",
   "execution_count": null,
   "metadata": {
    "colab": {},
    "colab_type": "code",
    "id": "Ag0x67irc_if"
   },
   "outputs": [],
   "source": [
    "import numpy as np\n",
    "import pandas as pd\n",
    "from sklearn import datasets \n",
    "from matplotlib import pyplot as plt\n",
    "import seaborn as sns\n",
    "\n",
    "from scipy.stats import pearsonr\n",
    "from sklearn.ensemble import GradientBoostingRegressor, RandomForestRegressor\n",
    "from sklearn.tree  import DecisionTreeRegressor\n",
    "from sklearn.linear_model import LinearRegression\n",
    "from sklearn.preprocessing import LabelEncoder\n",
    "\n",
    "from sklearn.model_selection import train_test_split\n",
    "from sklearn.metrics import explained_variance_score,mean_squared_error,r2_score\n",
    "from sklearn.model_selection import StratifiedKFold\n",
    "from sklearn.model_selection import GridSearchCV\n",
    "from sklearn.model_selection import KFold\n",
    "\n",
    "%matplotlib inline"
   ]
  },
  {
   "cell_type": "markdown",
   "metadata": {
    "colab_type": "text",
    "id": "C9ZfdGZNc_ij"
   },
   "source": [
    "# EDA "
   ]
  },
  {
   "cell_type": "code",
   "execution_count": null,
   "metadata": {
    "colab": {},
    "colab_type": "code",
    "id": "wNZ9GyCpc_ij"
   },
   "outputs": [],
   "source": [
    "data = pd.read_csv(\"kc_house_data.csv\")"
   ]
  },
  {
   "cell_type": "code",
   "execution_count": null,
   "metadata": {
    "colab": {
     "base_uri": "https://localhost:8080/",
     "height": 34
    },
    "colab_type": "code",
    "executionInfo": {
     "elapsed": 1242,
     "status": "ok",
     "timestamp": 1597552239552,
     "user": {
      "displayName": "Dannon Choo",
      "photoUrl": "https://lh3.googleusercontent.com/a-/AOh14GhdtUj67GQ_ikEO4rMJN8QzdjQQ8Kv1CIGFq2ib=s64",
      "userId": "13104822539939925533"
     },
     "user_tz": -480
    },
    "id": "WD68AOD7c_im",
    "outputId": "0fe591e7-db8b-4004-aec9-2d4fa38e5642"
   },
   "outputs": [
    {
     "data": {
      "text/plain": [
       "(21613, 21)"
      ]
     },
     "execution_count": 4,
     "metadata": {
      "tags": []
     },
     "output_type": "execute_result"
    }
   ],
   "source": [
    "data.shape"
   ]
  },
  {
   "cell_type": "code",
   "execution_count": null,
   "metadata": {
    "colab": {
     "base_uri": "https://localhost:8080/",
     "height": 215
    },
    "colab_type": "code",
    "executionInfo": {
     "elapsed": 1896,
     "status": "ok",
     "timestamp": 1597552240435,
     "user": {
      "displayName": "Dannon Choo",
      "photoUrl": "https://lh3.googleusercontent.com/a-/AOh14GhdtUj67GQ_ikEO4rMJN8QzdjQQ8Kv1CIGFq2ib=s64",
      "userId": "13104822539939925533"
     },
     "user_tz": -480
    },
    "id": "NTCgxatsc_ip",
    "outputId": "f07b9871-33e6-46fc-8ace-0329a1a59b47"
   },
   "outputs": [
    {
     "data": {
      "text/html": [
       "<div>\n",
       "<style scoped>\n",
       "    .dataframe tbody tr th:only-of-type {\n",
       "        vertical-align: middle;\n",
       "    }\n",
       "\n",
       "    .dataframe tbody tr th {\n",
       "        vertical-align: top;\n",
       "    }\n",
       "\n",
       "    .dataframe thead th {\n",
       "        text-align: right;\n",
       "    }\n",
       "</style>\n",
       "<table border=\"1\" class=\"dataframe\">\n",
       "  <thead>\n",
       "    <tr style=\"text-align: right;\">\n",
       "      <th></th>\n",
       "      <th>id</th>\n",
       "      <th>date</th>\n",
       "      <th>price</th>\n",
       "      <th>bedrooms</th>\n",
       "      <th>bathrooms</th>\n",
       "      <th>sqft_living</th>\n",
       "      <th>sqft_lot</th>\n",
       "      <th>floors</th>\n",
       "      <th>waterfront</th>\n",
       "      <th>view</th>\n",
       "      <th>condition</th>\n",
       "      <th>grade</th>\n",
       "      <th>sqft_above</th>\n",
       "      <th>sqft_basement</th>\n",
       "      <th>yr_built</th>\n",
       "      <th>yr_renovated</th>\n",
       "      <th>zipcode</th>\n",
       "      <th>lat</th>\n",
       "      <th>long</th>\n",
       "      <th>sqft_living15</th>\n",
       "      <th>sqft_lot15</th>\n",
       "    </tr>\n",
       "  </thead>\n",
       "  <tbody>\n",
       "    <tr>\n",
       "      <th>0</th>\n",
       "      <td>7129300520</td>\n",
       "      <td>20141013T000000</td>\n",
       "      <td>221900.0</td>\n",
       "      <td>3</td>\n",
       "      <td>1.00</td>\n",
       "      <td>1180</td>\n",
       "      <td>5650</td>\n",
       "      <td>1.0</td>\n",
       "      <td>0</td>\n",
       "      <td>0</td>\n",
       "      <td>3</td>\n",
       "      <td>7</td>\n",
       "      <td>1180</td>\n",
       "      <td>0</td>\n",
       "      <td>1955</td>\n",
       "      <td>0</td>\n",
       "      <td>98178</td>\n",
       "      <td>47.5112</td>\n",
       "      <td>-122.257</td>\n",
       "      <td>1340</td>\n",
       "      <td>5650</td>\n",
       "    </tr>\n",
       "    <tr>\n",
       "      <th>1</th>\n",
       "      <td>6414100192</td>\n",
       "      <td>20141209T000000</td>\n",
       "      <td>538000.0</td>\n",
       "      <td>3</td>\n",
       "      <td>2.25</td>\n",
       "      <td>2570</td>\n",
       "      <td>7242</td>\n",
       "      <td>2.0</td>\n",
       "      <td>0</td>\n",
       "      <td>0</td>\n",
       "      <td>3</td>\n",
       "      <td>7</td>\n",
       "      <td>2170</td>\n",
       "      <td>400</td>\n",
       "      <td>1951</td>\n",
       "      <td>1991</td>\n",
       "      <td>98125</td>\n",
       "      <td>47.7210</td>\n",
       "      <td>-122.319</td>\n",
       "      <td>1690</td>\n",
       "      <td>7639</td>\n",
       "    </tr>\n",
       "    <tr>\n",
       "      <th>2</th>\n",
       "      <td>5631500400</td>\n",
       "      <td>20150225T000000</td>\n",
       "      <td>180000.0</td>\n",
       "      <td>2</td>\n",
       "      <td>1.00</td>\n",
       "      <td>770</td>\n",
       "      <td>10000</td>\n",
       "      <td>1.0</td>\n",
       "      <td>0</td>\n",
       "      <td>0</td>\n",
       "      <td>3</td>\n",
       "      <td>6</td>\n",
       "      <td>770</td>\n",
       "      <td>0</td>\n",
       "      <td>1933</td>\n",
       "      <td>0</td>\n",
       "      <td>98028</td>\n",
       "      <td>47.7379</td>\n",
       "      <td>-122.233</td>\n",
       "      <td>2720</td>\n",
       "      <td>8062</td>\n",
       "    </tr>\n",
       "    <tr>\n",
       "      <th>3</th>\n",
       "      <td>2487200875</td>\n",
       "      <td>20141209T000000</td>\n",
       "      <td>604000.0</td>\n",
       "      <td>4</td>\n",
       "      <td>3.00</td>\n",
       "      <td>1960</td>\n",
       "      <td>5000</td>\n",
       "      <td>1.0</td>\n",
       "      <td>0</td>\n",
       "      <td>0</td>\n",
       "      <td>5</td>\n",
       "      <td>7</td>\n",
       "      <td>1050</td>\n",
       "      <td>910</td>\n",
       "      <td>1965</td>\n",
       "      <td>0</td>\n",
       "      <td>98136</td>\n",
       "      <td>47.5208</td>\n",
       "      <td>-122.393</td>\n",
       "      <td>1360</td>\n",
       "      <td>5000</td>\n",
       "    </tr>\n",
       "    <tr>\n",
       "      <th>4</th>\n",
       "      <td>1954400510</td>\n",
       "      <td>20150218T000000</td>\n",
       "      <td>510000.0</td>\n",
       "      <td>3</td>\n",
       "      <td>2.00</td>\n",
       "      <td>1680</td>\n",
       "      <td>8080</td>\n",
       "      <td>1.0</td>\n",
       "      <td>0</td>\n",
       "      <td>0</td>\n",
       "      <td>3</td>\n",
       "      <td>8</td>\n",
       "      <td>1680</td>\n",
       "      <td>0</td>\n",
       "      <td>1987</td>\n",
       "      <td>0</td>\n",
       "      <td>98074</td>\n",
       "      <td>47.6168</td>\n",
       "      <td>-122.045</td>\n",
       "      <td>1800</td>\n",
       "      <td>7503</td>\n",
       "    </tr>\n",
       "  </tbody>\n",
       "</table>\n",
       "</div>"
      ],
      "text/plain": [
       "           id             date     price  ...     long  sqft_living15  sqft_lot15\n",
       "0  7129300520  20141013T000000  221900.0  ... -122.257           1340        5650\n",
       "1  6414100192  20141209T000000  538000.0  ... -122.319           1690        7639\n",
       "2  5631500400  20150225T000000  180000.0  ... -122.233           2720        8062\n",
       "3  2487200875  20141209T000000  604000.0  ... -122.393           1360        5000\n",
       "4  1954400510  20150218T000000  510000.0  ... -122.045           1800        7503\n",
       "\n",
       "[5 rows x 21 columns]"
      ]
     },
     "execution_count": 5,
     "metadata": {
      "tags": []
     },
     "output_type": "execute_result"
    }
   ],
   "source": [
    "data.head()"
   ]
  },
  {
   "cell_type": "code",
   "execution_count": null,
   "metadata": {
    "colab": {
     "base_uri": "https://localhost:8080/",
     "height": 487
    },
    "colab_type": "code",
    "executionInfo": {
     "elapsed": 1698,
     "status": "ok",
     "timestamp": 1597552240436,
     "user": {
      "displayName": "Dannon Choo",
      "photoUrl": "https://lh3.googleusercontent.com/a-/AOh14GhdtUj67GQ_ikEO4rMJN8QzdjQQ8Kv1CIGFq2ib=s64",
      "userId": "13104822539939925533"
     },
     "user_tz": -480
    },
    "id": "npDDDzeTc_is",
    "outputId": "5c58fc3b-0b75-4018-8b9e-b29c20907c1d"
   },
   "outputs": [
    {
     "name": "stdout",
     "output_type": "stream",
     "text": [
      "<class 'pandas.core.frame.DataFrame'>\n",
      "RangeIndex: 21613 entries, 0 to 21612\n",
      "Data columns (total 21 columns):\n",
      " #   Column         Non-Null Count  Dtype  \n",
      "---  ------         --------------  -----  \n",
      " 0   id             21613 non-null  int64  \n",
      " 1   date           21613 non-null  object \n",
      " 2   price          21613 non-null  float64\n",
      " 3   bedrooms       21613 non-null  int64  \n",
      " 4   bathrooms      21613 non-null  float64\n",
      " 5   sqft_living    21613 non-null  int64  \n",
      " 6   sqft_lot       21613 non-null  int64  \n",
      " 7   floors         21613 non-null  float64\n",
      " 8   waterfront     21613 non-null  int64  \n",
      " 9   view           21613 non-null  int64  \n",
      " 10  condition      21613 non-null  int64  \n",
      " 11  grade          21613 non-null  int64  \n",
      " 12  sqft_above     21613 non-null  int64  \n",
      " 13  sqft_basement  21613 non-null  int64  \n",
      " 14  yr_built       21613 non-null  int64  \n",
      " 15  yr_renovated   21613 non-null  int64  \n",
      " 16  zipcode        21613 non-null  int64  \n",
      " 17  lat            21613 non-null  float64\n",
      " 18  long           21613 non-null  float64\n",
      " 19  sqft_living15  21613 non-null  int64  \n",
      " 20  sqft_lot15     21613 non-null  int64  \n",
      "dtypes: float64(5), int64(15), object(1)\n",
      "memory usage: 3.5+ MB\n"
     ]
    }
   ],
   "source": [
    "data.info()"
   ]
  },
  {
   "cell_type": "code",
   "execution_count": null,
   "metadata": {
    "colab": {
     "base_uri": "https://localhost:8080/",
     "height": 386
    },
    "colab_type": "code",
    "executionInfo": {
     "elapsed": 1264,
     "status": "ok",
     "timestamp": 1597552245528,
     "user": {
      "displayName": "Dannon Choo",
      "photoUrl": "https://lh3.googleusercontent.com/a-/AOh14GhdtUj67GQ_ikEO4rMJN8QzdjQQ8Kv1CIGFq2ib=s64",
      "userId": "13104822539939925533"
     },
     "user_tz": -480
    },
    "id": "vM1lVmfgc_iv",
    "outputId": "e5a49918-e84f-4245-fb88-1820ed2b62fd"
   },
   "outputs": [
    {
     "data": {
      "text/plain": [
       "id               0\n",
       "date             0\n",
       "price            0\n",
       "bedrooms         0\n",
       "bathrooms        0\n",
       "sqft_living      0\n",
       "sqft_lot         0\n",
       "floors           0\n",
       "waterfront       0\n",
       "view             0\n",
       "condition        0\n",
       "grade            0\n",
       "sqft_above       0\n",
       "sqft_basement    0\n",
       "yr_built         0\n",
       "yr_renovated     0\n",
       "zipcode          0\n",
       "lat              0\n",
       "long             0\n",
       "sqft_living15    0\n",
       "sqft_lot15       0\n",
       "dtype: int64"
      ]
     },
     "execution_count": 7,
     "metadata": {
      "tags": []
     },
     "output_type": "execute_result"
    }
   ],
   "source": [
    "data.isnull().sum()"
   ]
  },
  {
   "cell_type": "code",
   "execution_count": null,
   "metadata": {
    "colab": {
     "base_uri": "https://localhost:8080/",
     "height": 386
    },
    "colab_type": "code",
    "executionInfo": {
     "elapsed": 1202,
     "status": "ok",
     "timestamp": 1597552249963,
     "user": {
      "displayName": "Dannon Choo",
      "photoUrl": "https://lh3.googleusercontent.com/a-/AOh14GhdtUj67GQ_ikEO4rMJN8QzdjQQ8Kv1CIGFq2ib=s64",
      "userId": "13104822539939925533"
     },
     "user_tz": -480
    },
    "id": "Pw5cf8lLc_iz",
    "outputId": "07316c8a-fe30-414f-c146-2373107e3850"
   },
   "outputs": [
    {
     "data": {
      "text/plain": [
       "id                 int64\n",
       "date              object\n",
       "price            float64\n",
       "bedrooms           int64\n",
       "bathrooms        float64\n",
       "sqft_living        int64\n",
       "sqft_lot           int64\n",
       "floors           float64\n",
       "waterfront         int64\n",
       "view               int64\n",
       "condition          int64\n",
       "grade              int64\n",
       "sqft_above         int64\n",
       "sqft_basement      int64\n",
       "yr_built           int64\n",
       "yr_renovated       int64\n",
       "zipcode            int64\n",
       "lat              float64\n",
       "long             float64\n",
       "sqft_living15      int64\n",
       "sqft_lot15         int64\n",
       "dtype: object"
      ]
     },
     "execution_count": 8,
     "metadata": {
      "tags": []
     },
     "output_type": "execute_result"
    }
   ],
   "source": [
    "data.dtypes"
   ]
  },
  {
   "cell_type": "markdown",
   "metadata": {
    "colab_type": "text",
    "id": "88RGkwoac_i2"
   },
   "source": [
    "## Correlation between variables and price"
   ]
  },
  {
   "cell_type": "code",
   "execution_count": null,
   "metadata": {
    "colab": {
     "base_uri": "https://localhost:8080/",
     "height": 370
    },
    "colab_type": "code",
    "executionInfo": {
     "elapsed": 1228,
     "status": "ok",
     "timestamp": 1597552250802,
     "user": {
      "displayName": "Dannon Choo",
      "photoUrl": "https://lh3.googleusercontent.com/a-/AOh14GhdtUj67GQ_ikEO4rMJN8QzdjQQ8Kv1CIGFq2ib=s64",
      "userId": "13104822539939925533"
     },
     "user_tz": -480
    },
    "id": "mswmW5SXc_i3",
    "outputId": "7146aa37-cd0c-4b46-8f8a-0cfa10b83cf2"
   },
   "outputs": [
    {
     "data": {
      "text/plain": [
       "['id',\n",
       " 'date',\n",
       " 'price',\n",
       " 'bedrooms',\n",
       " 'bathrooms',\n",
       " 'sqft_living',\n",
       " 'sqft_lot',\n",
       " 'floors',\n",
       " 'waterfront',\n",
       " 'view',\n",
       " 'condition',\n",
       " 'grade',\n",
       " 'sqft_above',\n",
       " 'sqft_basement',\n",
       " 'yr_built',\n",
       " 'yr_renovated',\n",
       " 'zipcode',\n",
       " 'lat',\n",
       " 'long',\n",
       " 'sqft_living15',\n",
       " 'sqft_lot15']"
      ]
     },
     "execution_count": 9,
     "metadata": {
      "tags": []
     },
     "output_type": "execute_result"
    }
   ],
   "source": [
    "features = data.columns.values.tolist()\n",
    "features"
   ]
  },
  {
   "cell_type": "code",
   "execution_count": null,
   "metadata": {
    "colab": {},
    "colab_type": "code",
    "id": "c84ArTooc_i6"
   },
   "outputs": [],
   "source": [
    "target = features[2]\n",
    "features.remove('id')\n",
    "features.remove('price')\n",
    "features.remove('date')"
   ]
  },
  {
   "cell_type": "code",
   "execution_count": null,
   "metadata": {
    "colab": {
     "base_uri": "https://localhost:8080/",
     "height": 70
    },
    "colab_type": "code",
    "executionInfo": {
     "elapsed": 1675,
     "status": "ok",
     "timestamp": 1597552251681,
     "user": {
      "displayName": "Dannon Choo",
      "photoUrl": "https://lh3.googleusercontent.com/a-/AOh14GhdtUj67GQ_ikEO4rMJN8QzdjQQ8Kv1CIGFq2ib=s64",
      "userId": "13104822539939925533"
     },
     "user_tz": -480
    },
    "id": "NMqTVf92c_i8",
    "outputId": "15a59df1-cf7f-4906-aebd-58326a3092fb"
   },
   "outputs": [
    {
     "name": "stdout",
     "output_type": "stream",
     "text": [
      "price\n",
      "['bedrooms', 'bathrooms', 'sqft_living', 'sqft_lot', 'floors', 'waterfront', 'view', 'condition', 'grade', 'sqft_above', 'sqft_basement', 'yr_built', 'yr_renovated', 'zipcode', 'lat', 'long', 'sqft_living15', 'sqft_lot15']\n"
     ]
    }
   ],
   "source": [
    "print(target)\n",
    "print(features)"
   ]
  },
  {
   "cell_type": "code",
   "execution_count": null,
   "metadata": {
    "colab": {},
    "colab_type": "code",
    "id": "1j_YLEhoc_jA"
   },
   "outputs": [],
   "source": [
    "# Finding Correlation of price with features\n",
    "correlations = {}\n",
    "for f in features:\n",
    "    data_temp = data[[f,target]]\n",
    "    x1 = data_temp[f].values\n",
    "    x2 = data_temp[target].values\n",
    "    key = f + ' vs ' + target\n",
    "    correlations[key] = pearsonr(x1,x2)[0]"
   ]
  },
  {
   "cell_type": "code",
   "execution_count": null,
   "metadata": {
    "colab": {
     "base_uri": "https://localhost:8080/",
     "height": 580
    },
    "colab_type": "code",
    "executionInfo": {
     "elapsed": 1357,
     "status": "ok",
     "timestamp": 1597552251683,
     "user": {
      "displayName": "Dannon Choo",
      "photoUrl": "https://lh3.googleusercontent.com/a-/AOh14GhdtUj67GQ_ikEO4rMJN8QzdjQQ8Kv1CIGFq2ib=s64",
      "userId": "13104822539939925533"
     },
     "user_tz": -480
    },
    "id": "8Dfbeqw5c_jC",
    "outputId": "3359ec77-094f-4264-9930-145d865f72bd"
   },
   "outputs": [
    {
     "data": {
      "text/html": [
       "<div>\n",
       "<style scoped>\n",
       "    .dataframe tbody tr th:only-of-type {\n",
       "        vertical-align: middle;\n",
       "    }\n",
       "\n",
       "    .dataframe tbody tr th {\n",
       "        vertical-align: top;\n",
       "    }\n",
       "\n",
       "    .dataframe thead th {\n",
       "        text-align: right;\n",
       "    }\n",
       "</style>\n",
       "<table border=\"1\" class=\"dataframe\">\n",
       "  <thead>\n",
       "    <tr style=\"text-align: right;\">\n",
       "      <th></th>\n",
       "      <th>Value</th>\n",
       "    </tr>\n",
       "  </thead>\n",
       "  <tbody>\n",
       "    <tr>\n",
       "      <th>sqft_living vs price</th>\n",
       "      <td>0.702035</td>\n",
       "    </tr>\n",
       "    <tr>\n",
       "      <th>grade vs price</th>\n",
       "      <td>0.667434</td>\n",
       "    </tr>\n",
       "    <tr>\n",
       "      <th>sqft_above vs price</th>\n",
       "      <td>0.605567</td>\n",
       "    </tr>\n",
       "    <tr>\n",
       "      <th>sqft_living15 vs price</th>\n",
       "      <td>0.585379</td>\n",
       "    </tr>\n",
       "    <tr>\n",
       "      <th>bathrooms vs price</th>\n",
       "      <td>0.525138</td>\n",
       "    </tr>\n",
       "    <tr>\n",
       "      <th>view vs price</th>\n",
       "      <td>0.397293</td>\n",
       "    </tr>\n",
       "    <tr>\n",
       "      <th>sqft_basement vs price</th>\n",
       "      <td>0.323816</td>\n",
       "    </tr>\n",
       "    <tr>\n",
       "      <th>bedrooms vs price</th>\n",
       "      <td>0.308350</td>\n",
       "    </tr>\n",
       "    <tr>\n",
       "      <th>lat vs price</th>\n",
       "      <td>0.307003</td>\n",
       "    </tr>\n",
       "    <tr>\n",
       "      <th>waterfront vs price</th>\n",
       "      <td>0.266369</td>\n",
       "    </tr>\n",
       "    <tr>\n",
       "      <th>floors vs price</th>\n",
       "      <td>0.256794</td>\n",
       "    </tr>\n",
       "    <tr>\n",
       "      <th>yr_renovated vs price</th>\n",
       "      <td>0.126434</td>\n",
       "    </tr>\n",
       "    <tr>\n",
       "      <th>sqft_lot vs price</th>\n",
       "      <td>0.089661</td>\n",
       "    </tr>\n",
       "    <tr>\n",
       "      <th>sqft_lot15 vs price</th>\n",
       "      <td>0.082447</td>\n",
       "    </tr>\n",
       "    <tr>\n",
       "      <th>yr_built vs price</th>\n",
       "      <td>0.054012</td>\n",
       "    </tr>\n",
       "    <tr>\n",
       "      <th>zipcode vs price</th>\n",
       "      <td>-0.053203</td>\n",
       "    </tr>\n",
       "    <tr>\n",
       "      <th>condition vs price</th>\n",
       "      <td>0.036362</td>\n",
       "    </tr>\n",
       "    <tr>\n",
       "      <th>long vs price</th>\n",
       "      <td>0.021626</td>\n",
       "    </tr>\n",
       "  </tbody>\n",
       "</table>\n",
       "</div>"
      ],
      "text/plain": [
       "                           Value\n",
       "sqft_living vs price    0.702035\n",
       "grade vs price          0.667434\n",
       "sqft_above vs price     0.605567\n",
       "sqft_living15 vs price  0.585379\n",
       "bathrooms vs price      0.525138\n",
       "view vs price           0.397293\n",
       "sqft_basement vs price  0.323816\n",
       "bedrooms vs price       0.308350\n",
       "lat vs price            0.307003\n",
       "waterfront vs price     0.266369\n",
       "floors vs price         0.256794\n",
       "yr_renovated vs price   0.126434\n",
       "sqft_lot vs price       0.089661\n",
       "sqft_lot15 vs price     0.082447\n",
       "yr_built vs price       0.054012\n",
       "zipcode vs price       -0.053203\n",
       "condition vs price      0.036362\n",
       "long vs price           0.021626"
      ]
     },
     "execution_count": 13,
     "metadata": {
      "tags": []
     },
     "output_type": "execute_result"
    }
   ],
   "source": [
    "data_correlations = pd.DataFrame(correlations, index=['Value']).T\n",
    "data_correlations.loc[data_correlations['Value'].abs().sort_values(ascending=False).index]"
   ]
  },
  {
   "cell_type": "code",
   "execution_count": null,
   "metadata": {
    "colab": {
     "base_uri": "https://localhost:8080/",
     "height": 235
    },
    "colab_type": "code",
    "executionInfo": {
     "elapsed": 1043,
     "status": "ok",
     "timestamp": 1597552252184,
     "user": {
      "displayName": "Dannon Choo",
      "photoUrl": "https://lh3.googleusercontent.com/a-/AOh14GhdtUj67GQ_ikEO4rMJN8QzdjQQ8Kv1CIGFq2ib=s64",
      "userId": "13104822539939925533"
     },
     "user_tz": -480
    },
    "id": "iXQupXopc_jF",
    "outputId": "4ed15f04-9021-4eac-9989-a41ec6f46de8"
   },
   "outputs": [
    {
     "data": {
      "text/plain": [
       "('sqft_living',\n",
       " 'grade',\n",
       " 'sqft_living15',\n",
       " 'bathrooms',\n",
       " 'view',\n",
       " 'bedrooms',\n",
       " 'lat',\n",
       " 'waterfront',\n",
       " 'floors',\n",
       " 'yr_renovated',\n",
       " 'sqft_lot',\n",
       " 'sqft_lot15',\n",
       " 'yr_built')"
      ]
     },
     "execution_count": 14,
     "metadata": {
      "tags": []
     },
     "output_type": "execute_result"
    }
   ],
   "source": [
    "'sqft_living', 'grade', 'sqft_living15', 'bathrooms', 'view', 'bedrooms', 'lat', 'waterfront', 'floors', 'yr_renovated', 'sqft_lot', 'sqft_lot15', 'yr_built'  "
   ]
  },
  {
   "cell_type": "markdown",
   "metadata": {
    "colab_type": "text",
    "id": "WbSvDNHec_jI"
   },
   "source": [
    "## Graphs"
   ]
  },
  {
   "cell_type": "markdown",
   "metadata": {
    "colab_type": "text",
    "id": "jtzvtfthc_jJ"
   },
   "source": [
    "### Heatmap"
   ]
  },
  {
   "cell_type": "code",
   "execution_count": null,
   "metadata": {
    "colab": {
     "base_uri": "https://localhost:8080/",
     "height": 568
    },
    "colab_type": "code",
    "executionInfo": {
     "elapsed": 3602,
     "status": "ok",
     "timestamp": 1597552256279,
     "user": {
      "displayName": "Dannon Choo",
      "photoUrl": "https://lh3.googleusercontent.com/a-/AOh14GhdtUj67GQ_ikEO4rMJN8QzdjQQ8Kv1CIGFq2ib=s64",
      "userId": "13104822539939925533"
     },
     "user_tz": -480
    },
    "id": "Wr3hxwywc_jJ",
    "outputId": "0131e21c-9c2d-4960-d6de-9132a000cf77"
   },
   "outputs": [
    {
     "data": {
      "text/plain": [
       "<matplotlib.axes._subplots.AxesSubplot at 0x7f790ccb0f28>"
      ]
     },
     "execution_count": 15,
     "metadata": {
      "tags": []
     },
     "output_type": "execute_result"
    },
    {
     "data": {
      "image/png": "[encoded data removed]",
      "text/plain": [
       "<Figure size 1080x576 with 2 Axes>"
      ]
     },
     "metadata": {
      "needs_background": "light",
      "tags": []
     },
     "output_type": "display_data"
    }
   ],
   "source": [
    "plt.figure(figsize=(15,8))\n",
    "sns.heatmap(data.corr(), annot=True)"
   ]
  },
  {
   "cell_type": "markdown",
   "metadata": {
    "colab_type": "text",
    "id": "6u5cNCE9c_jM"
   },
   "source": [
    "### sqft-living vs price Jointplot"
   ]
  },
  {
   "cell_type": "code",
   "execution_count": null,
   "metadata": {
    "colab": {
     "base_uri": "https://localhost:8080/",
     "height": 602
    },
    "colab_type": "code",
    "executionInfo": {
     "elapsed": 5330,
     "status": "ok",
     "timestamp": 1597552258299,
     "user": {
      "displayName": "Dannon Choo",
      "photoUrl": "https://lh3.googleusercontent.com/a-/AOh14GhdtUj67GQ_ikEO4rMJN8QzdjQQ8Kv1CIGFq2ib=s64",
      "userId": "13104822539939925533"
     },
     "user_tz": -480
    },
    "id": "C-KARFH6c_jN",
    "outputId": "ee29deb6-a397-4aab-f59a-c94501594b16"
   },
   "outputs": [
    {
     "data": {
      "text/plain": [
       "<seaborn.axisgrid.JointGrid at 0x7f790b1ceba8>"
      ]
     },
     "execution_count": 16,
     "metadata": {
      "tags": []
     },
     "output_type": "execute_result"
    },
    {
     "data": {
      "image/png": "[encoded data removed]",
      "text/plain": [
       "<Figure size 576x576 with 3 Axes>"
      ]
     },
     "metadata": {
      "needs_background": "light",
      "tags": []
     },
     "output_type": "display_data"
    }
   ],
   "source": [
    "#sqft-living vs price Jointplot\n",
    "sns.jointplot(x='sqft_living', y='price', data=data, kind=\"reg\", color='mediumturquoise', height=8)"
   ]
  },
  {
   "cell_type": "markdown",
   "metadata": {
    "colab_type": "text",
    "id": "pdsMLUXvc_jQ"
   },
   "source": [
    "### sqft-living15 vs price Jointplot"
   ]
  },
  {
   "cell_type": "code",
   "execution_count": null,
   "metadata": {
    "colab": {
     "base_uri": "https://localhost:8080/",
     "height": 602
    },
    "colab_type": "code",
    "executionInfo": {
     "elapsed": 3439,
     "status": "ok",
     "timestamp": 1597552269172,
     "user": {
      "displayName": "Dannon Choo",
      "photoUrl": "https://lh3.googleusercontent.com/a-/AOh14GhdtUj67GQ_ikEO4rMJN8QzdjQQ8Kv1CIGFq2ib=s64",
      "userId": "13104822539939925533"
     },
     "user_tz": -480
    },
    "id": "IQ9G_xaHc_jQ",
    "outputId": "d2243328-adf1-428c-d24e-bfb2655847c3"
   },
   "outputs": [
    {
     "data": {
      "text/plain": [
       "<seaborn.axisgrid.JointGrid at 0x7f790b8f16a0>"
      ]
     },
     "execution_count": 17,
     "metadata": {
      "tags": []
     },
     "output_type": "execute_result"
    },
    {
     "data": {
      "image/png": "[encoded data removed]",
      "text/plain": [
       "<Figure size 576x576 with 3 Axes>"
      ]
     },
     "metadata": {
      "needs_background": "light",
      "tags": []
     },
     "output_type": "display_data"
    }
   ],
   "source": [
    "#sqft_living15 vs price Jointplot\n",
    "sns.jointplot(x='sqft_living15', y='price', data=data, kind=\"reg\", color='mediumturquoise', height=8)"
   ]
  },
  {
   "cell_type": "markdown",
   "metadata": {
    "colab_type": "text",
    "id": "AsUrdSoEc_jU"
   },
   "source": [
    "### grade vs price Violinplot"
   ]
  },
  {
   "cell_type": "code",
   "execution_count": null,
   "metadata": {
    "colab": {
     "base_uri": "https://localhost:8080/",
     "height": 399
    },
    "colab_type": "code",
    "executionInfo": {
     "elapsed": 3027,
     "status": "ok",
     "timestamp": 1597552269174,
     "user": {
      "displayName": "Dannon Choo",
      "photoUrl": "https://lh3.googleusercontent.com/a-/AOh14GhdtUj67GQ_ikEO4rMJN8QzdjQQ8Kv1CIGFq2ib=s64",
      "userId": "13104822539939925533"
     },
     "user_tz": -480
    },
    "id": "x3FwBIOSc_jU",
    "outputId": "3796fc95-2ae3-42fd-fc1d-0ef7c3e62a9c",
    "scrolled": false
   },
   "outputs": [
    {
     "data": {
      "image/png": "[encoded data removed]",
      "text/plain": [
       "<Figure size 1080x432 with 1 Axes>"
      ]
     },
     "metadata": {
      "needs_background": "light",
      "tags": []
     },
     "output_type": "display_data"
    }
   ],
   "source": [
    "#grade vs price Violinplot\n",
    "plt.figure(figsize=(15,6))\n",
    "fig = sns.violinplot(x='grade', y='price', data=data)\n",
    "fig.axis(ymin=0, ymax=9000000);"
   ]
  },
  {
   "cell_type": "markdown",
   "metadata": {
    "colab_type": "text",
    "id": "1RhLdrqZc_jX"
   },
   "source": [
    "### bathrooms vs price Boxplot"
   ]
  },
  {
   "cell_type": "code",
   "execution_count": null,
   "metadata": {
    "colab": {
     "base_uri": "https://localhost:8080/",
     "height": 508
    },
    "colab_type": "code",
    "executionInfo": {
     "elapsed": 4057,
     "status": "ok",
     "timestamp": 1597552270533,
     "user": {
      "displayName": "Dannon Choo",
      "photoUrl": "https://lh3.googleusercontent.com/a-/AOh14GhdtUj67GQ_ikEO4rMJN8QzdjQQ8Kv1CIGFq2ib=s64",
      "userId": "13104822539939925533"
     },
     "user_tz": -480
    },
    "id": "m_FXDlgvc_jX",
    "outputId": "7c968edd-76a3-446e-ced8-514550497fb6"
   },
   "outputs": [
    {
     "data": {
      "image/png": "[encoded data removed]",
      "text/plain": [
       "<Figure size 1080x576 with 1 Axes>"
      ]
     },
     "metadata": {
      "needs_background": "light",
      "tags": []
     },
     "output_type": "display_data"
    }
   ],
   "source": [
    "plt.figure(figsize=(15,8))\n",
    "fig = sns.boxplot(x='bathrooms', y='price', data=data)"
   ]
  },
  {
   "cell_type": "markdown",
   "metadata": {
    "colab_type": "text",
    "id": "sp_gTrgJc_jZ"
   },
   "source": [
    "### bedrooms vs price Boxplot"
   ]
  },
  {
   "cell_type": "code",
   "execution_count": null,
   "metadata": {
    "colab": {
     "base_uri": "https://localhost:8080/",
     "height": 508
    },
    "colab_type": "code",
    "executionInfo": {
     "elapsed": 3721,
     "status": "ok",
     "timestamp": 1597552270535,
     "user": {
      "displayName": "Dannon Choo",
      "photoUrl": "https://lh3.googleusercontent.com/a-/AOh14GhdtUj67GQ_ikEO4rMJN8QzdjQQ8Kv1CIGFq2ib=s64",
      "userId": "13104822539939925533"
     },
     "user_tz": -480
    },
    "id": "Ejlbb1QTc_ja",
    "outputId": "ef2549db-cb46-444e-a653-e3c859cf95a1"
   },
   "outputs": [
    {
     "data": {
      "image/png": "[encoded data removed]",
      "text/plain": [
       "<Figure size 1080x576 with 1 Axes>"
      ]
     },
     "metadata": {
      "needs_background": "light",
      "tags": []
     },
     "output_type": "display_data"
    }
   ],
   "source": [
    "plt.figure(figsize=(15,8))\n",
    "fig = sns.boxplot(x='bedrooms', y='price', data=data)"
   ]
  },
  {
   "cell_type": "markdown",
   "metadata": {
    "colab_type": "text",
    "id": "7aXoXlmAc_jc"
   },
   "source": [
    "### view vs price Barplot"
   ]
  },
  {
   "cell_type": "code",
   "execution_count": null,
   "metadata": {
    "colab": {
     "base_uri": "https://localhost:8080/",
     "height": 508
    },
    "colab_type": "code",
    "executionInfo": {
     "elapsed": 3484,
     "status": "ok",
     "timestamp": 1597552271003,
     "user": {
      "displayName": "Dannon Choo",
      "photoUrl": "https://lh3.googleusercontent.com/a-/AOh14GhdtUj67GQ_ikEO4rMJN8QzdjQQ8Kv1CIGFq2ib=s64",
      "userId": "13104822539939925533"
     },
     "user_tz": -480
    },
    "id": "mFL3aEG7c_jd",
    "outputId": "95d75e54-8ff7-4c7f-f24c-8058f77bba7e"
   },
   "outputs": [
    {
     "data": {
      "image/png": "[encoded data removed]",
      "text/plain": [
       "<Figure size 1080x576 with 1 Axes>"
      ]
     },
     "metadata": {
      "needs_background": "light",
      "tags": []
     },
     "output_type": "display_data"
    }
   ],
   "source": [
    "plt.figure(figsize=(15,8))\n",
    "fig = sns.barplot(x='view', y='price', data=data)"
   ]
  },
  {
   "cell_type": "markdown",
   "metadata": {
    "colab_type": "text",
    "id": "IH6H4JVec_jf"
   },
   "source": [
    "# Data Preparation"
   ]
  },
  {
   "cell_type": "markdown",
   "metadata": {
    "colab_type": "text",
    "id": "zTRxerxXc_jg"
   },
   "source": [
    "## Bedrooms"
   ]
  },
  {
   "cell_type": "code",
   "execution_count": null,
   "metadata": {
    "colab": {
     "base_uri": "https://localhost:8080/",
     "height": 97
    },
    "colab_type": "code",
    "executionInfo": {
     "elapsed": 834,
     "status": "ok",
     "timestamp": 1597552273421,
     "user": {
      "displayName": "Dannon Choo",
      "photoUrl": "https://lh3.googleusercontent.com/a-/AOh14GhdtUj67GQ_ikEO4rMJN8QzdjQQ8Kv1CIGFq2ib=s64",
      "userId": "13104822539939925533"
     },
     "user_tz": -480
    },
    "id": "VGV6LWxyc_jg",
    "outputId": "e5f836c8-9de9-4aa1-e45f-78a4a7c1f437"
   },
   "outputs": [
    {
     "data": {
      "text/html": [
       "<div>\n",
       "<style scoped>\n",
       "    .dataframe tbody tr th:only-of-type {\n",
       "        vertical-align: middle;\n",
       "    }\n",
       "\n",
       "    .dataframe tbody tr th {\n",
       "        vertical-align: top;\n",
       "    }\n",
       "\n",
       "    .dataframe thead th {\n",
       "        text-align: right;\n",
       "    }\n",
       "</style>\n",
       "<table border=\"1\" class=\"dataframe\">\n",
       "  <thead>\n",
       "    <tr style=\"text-align: right;\">\n",
       "      <th></th>\n",
       "      <th>id</th>\n",
       "      <th>date</th>\n",
       "      <th>price</th>\n",
       "      <th>bedrooms</th>\n",
       "      <th>bathrooms</th>\n",
       "      <th>sqft_living</th>\n",
       "      <th>sqft_lot</th>\n",
       "      <th>floors</th>\n",
       "      <th>waterfront</th>\n",
       "      <th>view</th>\n",
       "      <th>condition</th>\n",
       "      <th>grade</th>\n",
       "      <th>sqft_above</th>\n",
       "      <th>sqft_basement</th>\n",
       "      <th>yr_built</th>\n",
       "      <th>yr_renovated</th>\n",
       "      <th>zipcode</th>\n",
       "      <th>lat</th>\n",
       "      <th>long</th>\n",
       "      <th>sqft_living15</th>\n",
       "      <th>sqft_lot15</th>\n",
       "    </tr>\n",
       "  </thead>\n",
       "  <tbody>\n",
       "    <tr>\n",
       "      <th>15870</th>\n",
       "      <td>2402100895</td>\n",
       "      <td>20140625T000000</td>\n",
       "      <td>640000.0</td>\n",
       "      <td>33</td>\n",
       "      <td>1.75</td>\n",
       "      <td>1620</td>\n",
       "      <td>6000</td>\n",
       "      <td>1.0</td>\n",
       "      <td>0</td>\n",
       "      <td>0</td>\n",
       "      <td>5</td>\n",
       "      <td>7</td>\n",
       "      <td>1040</td>\n",
       "      <td>580</td>\n",
       "      <td>1947</td>\n",
       "      <td>0</td>\n",
       "      <td>98103</td>\n",
       "      <td>47.6878</td>\n",
       "      <td>-122.331</td>\n",
       "      <td>1330</td>\n",
       "      <td>4700</td>\n",
       "    </tr>\n",
       "  </tbody>\n",
       "</table>\n",
       "</div>"
      ],
      "text/plain": [
       "               id             date  ...  sqft_living15  sqft_lot15\n",
       "15870  2402100895  20140625T000000  ...           1330        4700\n",
       "\n",
       "[1 rows x 21 columns]"
      ]
     },
     "execution_count": 22,
     "metadata": {
      "tags": []
     },
     "output_type": "execute_result"
    }
   ],
   "source": [
    "#drop row with 33 bedrooms\n",
    "row33Bedrooms = data[data['bedrooms'] == 33]\n",
    "row33Bedrooms"
   ]
  },
  {
   "cell_type": "code",
   "execution_count": null,
   "metadata": {
    "colab": {},
    "colab_type": "code",
    "id": "0hUObOGfc_ji"
   },
   "outputs": [],
   "source": [
    "data.drop(data[data['bedrooms'] == 33].index, inplace=True)"
   ]
  },
  {
   "cell_type": "code",
   "execution_count": null,
   "metadata": {
    "colab": {
     "base_uri": "https://localhost:8080/",
     "height": 34
    },
    "colab_type": "code",
    "executionInfo": {
     "elapsed": 585,
     "status": "ok",
     "timestamp": 1597552273895,
     "user": {
      "displayName": "Dannon Choo",
      "photoUrl": "https://lh3.googleusercontent.com/a-/AOh14GhdtUj67GQ_ikEO4rMJN8QzdjQQ8Kv1CIGFq2ib=s64",
      "userId": "13104822539939925533"
     },
     "user_tz": -480
    },
    "id": "G4lwm-wVc_jm",
    "outputId": "e71295fa-9fe8-42b8-bdb1-db8badabdbd7"
   },
   "outputs": [
    {
     "data": {
      "text/plain": [
       "(21612, 21)"
      ]
     },
     "execution_count": 24,
     "metadata": {
      "tags": []
     },
     "output_type": "execute_result"
    }
   ],
   "source": [
    "data.shape"
   ]
  },
  {
   "cell_type": "markdown",
   "metadata": {
    "colab_type": "text",
    "id": "BcJ93zezmtgF"
   },
   "source": [
    "## Normalise Data"
   ]
  },
  {
   "cell_type": "code",
   "execution_count": null,
   "metadata": {
    "colab": {},
    "colab_type": "code",
    "id": "mnNU8vRhYaVr"
   },
   "outputs": [],
   "source": [
    "data['price'] = np.log(data['price'])"
   ]
  },
  {
   "cell_type": "code",
   "execution_count": null,
   "metadata": {
    "colab": {},
    "colab_type": "code",
    "id": "IqeeiV7MYaVu"
   },
   "outputs": [],
   "source": [
    "data['sqft_living'] = np.log(data['sqft_living'])"
   ]
  },
  {
   "cell_type": "markdown",
   "metadata": {
    "colab_type": "text",
    "id": "pIdhjf18LtYK"
   },
   "source": [
    "## feature engineering"
   ]
  },
  {
   "cell_type": "markdown",
   "metadata": {
    "colab_type": "text",
    "id": "h2rrs4qLLwag"
   },
   "source": [
    "### basement"
   ]
  },
  {
   "cell_type": "code",
   "execution_count": null,
   "metadata": {
    "colab": {},
    "colab_type": "code",
    "id": "seRsZex-Jtcw"
   },
   "outputs": [],
   "source": [
    "data.loc[data.sqft_basement > 0, 'sqft_basement'] = 1"
   ]
  },
  {
   "cell_type": "code",
   "execution_count": null,
   "metadata": {
    "colab": {},
    "colab_type": "code",
    "id": "S4LxpEY4LH3d"
   },
   "outputs": [],
   "source": [
    "data = data.rename(columns={'sqft_basement':'sqft_basement_encoded'})"
   ]
  },
  {
   "cell_type": "code",
   "execution_count": null,
   "metadata": {
    "colab": {
     "base_uri": "https://localhost:8080/",
     "height": 215
    },
    "colab_type": "code",
    "executionInfo": {
     "elapsed": 1807,
     "status": "ok",
     "timestamp": 1597552282377,
     "user": {
      "displayName": "Dannon Choo",
      "photoUrl": "https://lh3.googleusercontent.com/a-/AOh14GhdtUj67GQ_ikEO4rMJN8QzdjQQ8Kv1CIGFq2ib=s64",
      "userId": "13104822539939925533"
     },
     "user_tz": -480
    },
    "id": "SCDuOWbZMKxe",
    "outputId": "efb17d57-d00d-4fe3-bba2-f219eb35faed"
   },
   "outputs": [
    {
     "data": {
      "text/html": [
       "<div>\n",
       "<style scoped>\n",
       "    .dataframe tbody tr th:only-of-type {\n",
       "        vertical-align: middle;\n",
       "    }\n",
       "\n",
       "    .dataframe tbody tr th {\n",
       "        vertical-align: top;\n",
       "    }\n",
       "\n",
       "    .dataframe thead th {\n",
       "        text-align: right;\n",
       "    }\n",
       "</style>\n",
       "<table border=\"1\" class=\"dataframe\">\n",
       "  <thead>\n",
       "    <tr style=\"text-align: right;\">\n",
       "      <th></th>\n",
       "      <th>id</th>\n",
       "      <th>date</th>\n",
       "      <th>price</th>\n",
       "      <th>bedrooms</th>\n",
       "      <th>bathrooms</th>\n",
       "      <th>sqft_living</th>\n",
       "      <th>sqft_lot</th>\n",
       "      <th>floors</th>\n",
       "      <th>waterfront</th>\n",
       "      <th>view</th>\n",
       "      <th>condition</th>\n",
       "      <th>grade</th>\n",
       "      <th>sqft_above</th>\n",
       "      <th>sqft_basement_encoded</th>\n",
       "      <th>yr_built</th>\n",
       "      <th>yr_renovated</th>\n",
       "      <th>zipcode</th>\n",
       "      <th>lat</th>\n",
       "      <th>long</th>\n",
       "      <th>sqft_living15</th>\n",
       "      <th>sqft_lot15</th>\n",
       "    </tr>\n",
       "  </thead>\n",
       "  <tbody>\n",
       "    <tr>\n",
       "      <th>0</th>\n",
       "      <td>7129300520</td>\n",
       "      <td>20141013T000000</td>\n",
       "      <td>12.309982</td>\n",
       "      <td>3</td>\n",
       "      <td>1.00</td>\n",
       "      <td>7.073270</td>\n",
       "      <td>5650</td>\n",
       "      <td>1.0</td>\n",
       "      <td>0</td>\n",
       "      <td>0</td>\n",
       "      <td>3</td>\n",
       "      <td>7</td>\n",
       "      <td>1180</td>\n",
       "      <td>0</td>\n",
       "      <td>1955</td>\n",
       "      <td>0</td>\n",
       "      <td>98178</td>\n",
       "      <td>47.5112</td>\n",
       "      <td>-122.257</td>\n",
       "      <td>1340</td>\n",
       "      <td>5650</td>\n",
       "    </tr>\n",
       "    <tr>\n",
       "      <th>1</th>\n",
       "      <td>6414100192</td>\n",
       "      <td>20141209T000000</td>\n",
       "      <td>13.195614</td>\n",
       "      <td>3</td>\n",
       "      <td>2.25</td>\n",
       "      <td>7.851661</td>\n",
       "      <td>7242</td>\n",
       "      <td>2.0</td>\n",
       "      <td>0</td>\n",
       "      <td>0</td>\n",
       "      <td>3</td>\n",
       "      <td>7</td>\n",
       "      <td>2170</td>\n",
       "      <td>1</td>\n",
       "      <td>1951</td>\n",
       "      <td>1991</td>\n",
       "      <td>98125</td>\n",
       "      <td>47.7210</td>\n",
       "      <td>-122.319</td>\n",
       "      <td>1690</td>\n",
       "      <td>7639</td>\n",
       "    </tr>\n",
       "    <tr>\n",
       "      <th>2</th>\n",
       "      <td>5631500400</td>\n",
       "      <td>20150225T000000</td>\n",
       "      <td>12.100712</td>\n",
       "      <td>2</td>\n",
       "      <td>1.00</td>\n",
       "      <td>6.646391</td>\n",
       "      <td>10000</td>\n",
       "      <td>1.0</td>\n",
       "      <td>0</td>\n",
       "      <td>0</td>\n",
       "      <td>3</td>\n",
       "      <td>6</td>\n",
       "      <td>770</td>\n",
       "      <td>0</td>\n",
       "      <td>1933</td>\n",
       "      <td>0</td>\n",
       "      <td>98028</td>\n",
       "      <td>47.7379</td>\n",
       "      <td>-122.233</td>\n",
       "      <td>2720</td>\n",
       "      <td>8062</td>\n",
       "    </tr>\n",
       "    <tr>\n",
       "      <th>3</th>\n",
       "      <td>2487200875</td>\n",
       "      <td>20141209T000000</td>\n",
       "      <td>13.311329</td>\n",
       "      <td>4</td>\n",
       "      <td>3.00</td>\n",
       "      <td>7.580700</td>\n",
       "      <td>5000</td>\n",
       "      <td>1.0</td>\n",
       "      <td>0</td>\n",
       "      <td>0</td>\n",
       "      <td>5</td>\n",
       "      <td>7</td>\n",
       "      <td>1050</td>\n",
       "      <td>1</td>\n",
       "      <td>1965</td>\n",
       "      <td>0</td>\n",
       "      <td>98136</td>\n",
       "      <td>47.5208</td>\n",
       "      <td>-122.393</td>\n",
       "      <td>1360</td>\n",
       "      <td>5000</td>\n",
       "    </tr>\n",
       "    <tr>\n",
       "      <th>4</th>\n",
       "      <td>1954400510</td>\n",
       "      <td>20150218T000000</td>\n",
       "      <td>13.142166</td>\n",
       "      <td>3</td>\n",
       "      <td>2.00</td>\n",
       "      <td>7.426549</td>\n",
       "      <td>8080</td>\n",
       "      <td>1.0</td>\n",
       "      <td>0</td>\n",
       "      <td>0</td>\n",
       "      <td>3</td>\n",
       "      <td>8</td>\n",
       "      <td>1680</td>\n",
       "      <td>0</td>\n",
       "      <td>1987</td>\n",
       "      <td>0</td>\n",
       "      <td>98074</td>\n",
       "      <td>47.6168</td>\n",
       "      <td>-122.045</td>\n",
       "      <td>1800</td>\n",
       "      <td>7503</td>\n",
       "    </tr>\n",
       "  </tbody>\n",
       "</table>\n",
       "</div>"
      ],
      "text/plain": [
       "           id             date      price  ...     long  sqft_living15  sqft_lot15\n",
       "0  7129300520  20141013T000000  12.309982  ... -122.257           1340        5650\n",
       "1  6414100192  20141209T000000  13.195614  ... -122.319           1690        7639\n",
       "2  5631500400  20150225T000000  12.100712  ... -122.233           2720        8062\n",
       "3  2487200875  20141209T000000  13.311329  ... -122.393           1360        5000\n",
       "4  1954400510  20150218T000000  13.142166  ... -122.045           1800        7503\n",
       "\n",
       "[5 rows x 21 columns]"
      ]
     },
     "execution_count": 29,
     "metadata": {
      "tags": []
     },
     "output_type": "execute_result"
    }
   ],
   "source": [
    "data.head()"
   ]
  },
  {
   "cell_type": "markdown",
   "metadata": {
    "colab_type": "text",
    "id": "Lr9anS0oL06u"
   },
   "source": [
    "### renovated"
   ]
  },
  {
   "cell_type": "code",
   "execution_count": null,
   "metadata": {
    "colab": {},
    "colab_type": "code",
    "id": "LWfBlNN0L3xt"
   },
   "outputs": [],
   "source": [
    "data.loc[data.yr_renovated > 0, 'yr_renovated'] = 1"
   ]
  },
  {
   "cell_type": "code",
   "execution_count": null,
   "metadata": {
    "colab": {},
    "colab_type": "code",
    "id": "LaZbYDlAVOuV"
   },
   "outputs": [],
   "source": [
    "data = data.rename(columns={'yr_renovated':'yr_renovated_encoded'})"
   ]
  },
  {
   "cell_type": "code",
   "execution_count": null,
   "metadata": {
    "colab": {
     "base_uri": "https://localhost:8080/",
     "height": 215
    },
    "colab_type": "code",
    "executionInfo": {
     "elapsed": 492,
     "status": "ok",
     "timestamp": 1597552383756,
     "user": {
      "displayName": "Dannon Choo",
      "photoUrl": "https://lh3.googleusercontent.com/a-/AOh14GhdtUj67GQ_ikEO4rMJN8QzdjQQ8Kv1CIGFq2ib=s64",
      "userId": "13104822539939925533"
     },
     "user_tz": -480
    },
    "id": "oTuaUMvzVOwt",
    "outputId": "1edddb1b-891e-4ee9-b593-d87b3ca15da3"
   },
   "outputs": [
    {
     "data": {
      "text/html": [
       "<div>\n",
       "<style scoped>\n",
       "    .dataframe tbody tr th:only-of-type {\n",
       "        vertical-align: middle;\n",
       "    }\n",
       "\n",
       "    .dataframe tbody tr th {\n",
       "        vertical-align: top;\n",
       "    }\n",
       "\n",
       "    .dataframe thead th {\n",
       "        text-align: right;\n",
       "    }\n",
       "</style>\n",
       "<table border=\"1\" class=\"dataframe\">\n",
       "  <thead>\n",
       "    <tr style=\"text-align: right;\">\n",
       "      <th></th>\n",
       "      <th>id</th>\n",
       "      <th>date</th>\n",
       "      <th>price</th>\n",
       "      <th>bedrooms</th>\n",
       "      <th>bathrooms</th>\n",
       "      <th>sqft_living</th>\n",
       "      <th>sqft_lot</th>\n",
       "      <th>floors</th>\n",
       "      <th>waterfront</th>\n",
       "      <th>view</th>\n",
       "      <th>condition</th>\n",
       "      <th>grade</th>\n",
       "      <th>sqft_above</th>\n",
       "      <th>sqft_basement_encoded</th>\n",
       "      <th>yr_built</th>\n",
       "      <th>yr_renovated_encoded</th>\n",
       "      <th>zipcode</th>\n",
       "      <th>lat</th>\n",
       "      <th>long</th>\n",
       "      <th>sqft_living15</th>\n",
       "      <th>sqft_lot15</th>\n",
       "    </tr>\n",
       "  </thead>\n",
       "  <tbody>\n",
       "    <tr>\n",
       "      <th>0</th>\n",
       "      <td>7129300520</td>\n",
       "      <td>20141013T000000</td>\n",
       "      <td>12.309982</td>\n",
       "      <td>3</td>\n",
       "      <td>1.00</td>\n",
       "      <td>7.073270</td>\n",
       "      <td>5650</td>\n",
       "      <td>1.0</td>\n",
       "      <td>0</td>\n",
       "      <td>0</td>\n",
       "      <td>3</td>\n",
       "      <td>7</td>\n",
       "      <td>1180</td>\n",
       "      <td>0</td>\n",
       "      <td>1955</td>\n",
       "      <td>0</td>\n",
       "      <td>98178</td>\n",
       "      <td>47.5112</td>\n",
       "      <td>-122.257</td>\n",
       "      <td>1340</td>\n",
       "      <td>5650</td>\n",
       "    </tr>\n",
       "    <tr>\n",
       "      <th>1</th>\n",
       "      <td>6414100192</td>\n",
       "      <td>20141209T000000</td>\n",
       "      <td>13.195614</td>\n",
       "      <td>3</td>\n",
       "      <td>2.25</td>\n",
       "      <td>7.851661</td>\n",
       "      <td>7242</td>\n",
       "      <td>2.0</td>\n",
       "      <td>0</td>\n",
       "      <td>0</td>\n",
       "      <td>3</td>\n",
       "      <td>7</td>\n",
       "      <td>2170</td>\n",
       "      <td>1</td>\n",
       "      <td>1951</td>\n",
       "      <td>1</td>\n",
       "      <td>98125</td>\n",
       "      <td>47.7210</td>\n",
       "      <td>-122.319</td>\n",
       "      <td>1690</td>\n",
       "      <td>7639</td>\n",
       "    </tr>\n",
       "    <tr>\n",
       "      <th>2</th>\n",
       "      <td>5631500400</td>\n",
       "      <td>20150225T000000</td>\n",
       "      <td>12.100712</td>\n",
       "      <td>2</td>\n",
       "      <td>1.00</td>\n",
       "      <td>6.646391</td>\n",
       "      <td>10000</td>\n",
       "      <td>1.0</td>\n",
       "      <td>0</td>\n",
       "      <td>0</td>\n",
       "      <td>3</td>\n",
       "      <td>6</td>\n",
       "      <td>770</td>\n",
       "      <td>0</td>\n",
       "      <td>1933</td>\n",
       "      <td>0</td>\n",
       "      <td>98028</td>\n",
       "      <td>47.7379</td>\n",
       "      <td>-122.233</td>\n",
       "      <td>2720</td>\n",
       "      <td>8062</td>\n",
       "    </tr>\n",
       "    <tr>\n",
       "      <th>3</th>\n",
       "      <td>2487200875</td>\n",
       "      <td>20141209T000000</td>\n",
       "      <td>13.311329</td>\n",
       "      <td>4</td>\n",
       "      <td>3.00</td>\n",
       "      <td>7.580700</td>\n",
       "      <td>5000</td>\n",
       "      <td>1.0</td>\n",
       "      <td>0</td>\n",
       "      <td>0</td>\n",
       "      <td>5</td>\n",
       "      <td>7</td>\n",
       "      <td>1050</td>\n",
       "      <td>1</td>\n",
       "      <td>1965</td>\n",
       "      <td>0</td>\n",
       "      <td>98136</td>\n",
       "      <td>47.5208</td>\n",
       "      <td>-122.393</td>\n",
       "      <td>1360</td>\n",
       "      <td>5000</td>\n",
       "    </tr>\n",
       "    <tr>\n",
       "      <th>4</th>\n",
       "      <td>1954400510</td>\n",
       "      <td>20150218T000000</td>\n",
       "      <td>13.142166</td>\n",
       "      <td>3</td>\n",
       "      <td>2.00</td>\n",
       "      <td>7.426549</td>\n",
       "      <td>8080</td>\n",
       "      <td>1.0</td>\n",
       "      <td>0</td>\n",
       "      <td>0</td>\n",
       "      <td>3</td>\n",
       "      <td>8</td>\n",
       "      <td>1680</td>\n",
       "      <td>0</td>\n",
       "      <td>1987</td>\n",
       "      <td>0</td>\n",
       "      <td>98074</td>\n",
       "      <td>47.6168</td>\n",
       "      <td>-122.045</td>\n",
       "      <td>1800</td>\n",
       "      <td>7503</td>\n",
       "    </tr>\n",
       "  </tbody>\n",
       "</table>\n",
       "</div>"
      ],
      "text/plain": [
       "           id             date      price  ...     long  sqft_living15  sqft_lot15\n",
       "0  7129300520  20141013T000000  12.309982  ... -122.257           1340        5650\n",
       "1  6414100192  20141209T000000  13.195614  ... -122.319           1690        7639\n",
       "2  5631500400  20150225T000000  12.100712  ... -122.233           2720        8062\n",
       "3  2487200875  20141209T000000  13.311329  ... -122.393           1360        5000\n",
       "4  1954400510  20150218T000000  13.142166  ... -122.045           1800        7503\n",
       "\n",
       "[5 rows x 21 columns]"
      ]
     },
     "execution_count": 44,
     "metadata": {
      "tags": []
     },
     "output_type": "execute_result"
    }
   ],
   "source": [
    "data.head()"
   ]
  },
  {
   "cell_type": "markdown",
   "metadata": {
    "colab_type": "text",
    "id": "Dm8Tws0ms3ww"
   },
   "source": [
    "## Creating Training Data"
   ]
  },
  {
   "cell_type": "code",
   "execution_count": null,
   "metadata": {
    "colab": {
     "base_uri": "https://localhost:8080/",
     "height": 215
    },
    "colab_type": "code",
    "executionInfo": {
     "elapsed": 634,
     "status": "ok",
     "timestamp": 1597552392322,
     "user": {
      "displayName": "Dannon Choo",
      "photoUrl": "https://lh3.googleusercontent.com/a-/AOh14GhdtUj67GQ_ikEO4rMJN8QzdjQQ8Kv1CIGFq2ib=s64",
      "userId": "13104822539939925533"
     },
     "user_tz": -480
    },
    "id": "H0jEME5yc_jp",
    "outputId": "65f1da95-ad19-40d0-87db-a8b6dfac4c68"
   },
   "outputs": [
    {
     "data": {
      "text/html": [
       "<div>\n",
       "<style scoped>\n",
       "    .dataframe tbody tr th:only-of-type {\n",
       "        vertical-align: middle;\n",
       "    }\n",
       "\n",
       "    .dataframe tbody tr th {\n",
       "        vertical-align: top;\n",
       "    }\n",
       "\n",
       "    .dataframe thead th {\n",
       "        text-align: right;\n",
       "    }\n",
       "</style>\n",
       "<table border=\"1\" class=\"dataframe\">\n",
       "  <thead>\n",
       "    <tr style=\"text-align: right;\">\n",
       "      <th></th>\n",
       "      <th>sqft_living</th>\n",
       "      <th>sqft_basement_encoded</th>\n",
       "      <th>long</th>\n",
       "      <th>yr_renovated_encoded</th>\n",
       "      <th>grade</th>\n",
       "      <th>bathrooms</th>\n",
       "      <th>view</th>\n",
       "      <th>bedrooms</th>\n",
       "      <th>lat</th>\n",
       "      <th>waterfront</th>\n",
       "      <th>floors</th>\n",
       "      <th>yr_built</th>\n",
       "      <th>zipcode</th>\n",
       "      <th>condition</th>\n",
       "    </tr>\n",
       "  </thead>\n",
       "  <tbody>\n",
       "    <tr>\n",
       "      <th>0</th>\n",
       "      <td>7.073270</td>\n",
       "      <td>0</td>\n",
       "      <td>-122.257</td>\n",
       "      <td>0</td>\n",
       "      <td>7</td>\n",
       "      <td>1.00</td>\n",
       "      <td>0</td>\n",
       "      <td>3</td>\n",
       "      <td>47.5112</td>\n",
       "      <td>0</td>\n",
       "      <td>1.0</td>\n",
       "      <td>1955</td>\n",
       "      <td>98178</td>\n",
       "      <td>3</td>\n",
       "    </tr>\n",
       "    <tr>\n",
       "      <th>1</th>\n",
       "      <td>7.851661</td>\n",
       "      <td>1</td>\n",
       "      <td>-122.319</td>\n",
       "      <td>1</td>\n",
       "      <td>7</td>\n",
       "      <td>2.25</td>\n",
       "      <td>0</td>\n",
       "      <td>3</td>\n",
       "      <td>47.7210</td>\n",
       "      <td>0</td>\n",
       "      <td>2.0</td>\n",
       "      <td>1951</td>\n",
       "      <td>98125</td>\n",
       "      <td>3</td>\n",
       "    </tr>\n",
       "    <tr>\n",
       "      <th>2</th>\n",
       "      <td>6.646391</td>\n",
       "      <td>0</td>\n",
       "      <td>-122.233</td>\n",
       "      <td>0</td>\n",
       "      <td>6</td>\n",
       "      <td>1.00</td>\n",
       "      <td>0</td>\n",
       "      <td>2</td>\n",
       "      <td>47.7379</td>\n",
       "      <td>0</td>\n",
       "      <td>1.0</td>\n",
       "      <td>1933</td>\n",
       "      <td>98028</td>\n",
       "      <td>3</td>\n",
       "    </tr>\n",
       "    <tr>\n",
       "      <th>3</th>\n",
       "      <td>7.580700</td>\n",
       "      <td>1</td>\n",
       "      <td>-122.393</td>\n",
       "      <td>0</td>\n",
       "      <td>7</td>\n",
       "      <td>3.00</td>\n",
       "      <td>0</td>\n",
       "      <td>4</td>\n",
       "      <td>47.5208</td>\n",
       "      <td>0</td>\n",
       "      <td>1.0</td>\n",
       "      <td>1965</td>\n",
       "      <td>98136</td>\n",
       "      <td>5</td>\n",
       "    </tr>\n",
       "    <tr>\n",
       "      <th>4</th>\n",
       "      <td>7.426549</td>\n",
       "      <td>0</td>\n",
       "      <td>-122.045</td>\n",
       "      <td>0</td>\n",
       "      <td>8</td>\n",
       "      <td>2.00</td>\n",
       "      <td>0</td>\n",
       "      <td>3</td>\n",
       "      <td>47.6168</td>\n",
       "      <td>0</td>\n",
       "      <td>1.0</td>\n",
       "      <td>1987</td>\n",
       "      <td>98074</td>\n",
       "      <td>3</td>\n",
       "    </tr>\n",
       "  </tbody>\n",
       "</table>\n",
       "</div>"
      ],
      "text/plain": [
       "   sqft_living  sqft_basement_encoded     long  ...  yr_built  zipcode  condition\n",
       "0     7.073270                      0 -122.257  ...      1955    98178          3\n",
       "1     7.851661                      1 -122.319  ...      1951    98125          3\n",
       "2     6.646391                      0 -122.233  ...      1933    98028          3\n",
       "3     7.580700                      1 -122.393  ...      1965    98136          5\n",
       "4     7.426549                      0 -122.045  ...      1987    98074          3\n",
       "\n",
       "[5 rows x 14 columns]"
      ]
     },
     "execution_count": 45,
     "metadata": {
      "tags": []
     },
     "output_type": "execute_result"
    }
   ],
   "source": [
    "#\n",
    "trainData = data[['sqft_living', 'sqft_basement_encoded', 'long', 'yr_renovated_encoded', 'grade', 'bathrooms', 'view', 'bedrooms', 'lat', 'waterfront', 'floors', 'yr_built', 'zipcode', 'condition']]\n",
    "trainData.head()"
   ]
  },
  {
   "cell_type": "code",
   "execution_count": null,
   "metadata": {
    "colab": {
     "base_uri": "https://localhost:8080/",
     "height": 118
    },
    "colab_type": "code",
    "executionInfo": {
     "elapsed": 853,
     "status": "ok",
     "timestamp": 1597552394584,
     "user": {
      "displayName": "Dannon Choo",
      "photoUrl": "https://lh3.googleusercontent.com/a-/AOh14GhdtUj67GQ_ikEO4rMJN8QzdjQQ8Kv1CIGFq2ib=s64",
      "userId": "13104822539939925533"
     },
     "user_tz": -480
    },
    "id": "zRWQU7Gjc_js",
    "outputId": "773b83b4-22df-4723-ff2d-5ab16cf08b54"
   },
   "outputs": [
    {
     "data": {
      "text/plain": [
       "0    12.309982\n",
       "1    13.195614\n",
       "2    12.100712\n",
       "3    13.311329\n",
       "4    13.142166\n",
       "Name: price, dtype: float64"
      ]
     },
     "execution_count": 46,
     "metadata": {
      "tags": []
     },
     "output_type": "execute_result"
    }
   ],
   "source": [
    "targetData = data['price']\n",
    "targetData.head()"
   ]
  },
  {
   "cell_type": "markdown",
   "metadata": {
    "colab_type": "text",
    "id": "Yw3p0CYwc_ju"
   },
   "source": [
    "# Split data into train and test"
   ]
  },
  {
   "cell_type": "code",
   "execution_count": null,
   "metadata": {
    "colab": {},
    "colab_type": "code",
    "id": "hrSSM3I-c_ju"
   },
   "outputs": [],
   "source": [
    "X = trainData.values\n",
    "y = targetData.values"
   ]
  },
  {
   "cell_type": "code",
   "execution_count": null,
   "metadata": {
    "colab": {},
    "colab_type": "code",
    "id": "Hs_Mh7Jac_jx"
   },
   "outputs": [],
   "source": [
    "X_train, X_test, y_train, y_test = train_test_split(X, y,test_size=0.2)"
   ]
  },
  {
   "cell_type": "markdown",
   "metadata": {
    "colab_type": "text",
    "id": "N1x9hMQXc_jz"
   },
   "source": [
    "# Train models"
   ]
  },
  {
   "cell_type": "code",
   "execution_count": null,
   "metadata": {
    "colab": {},
    "colab_type": "code",
    "id": "pubqLTLFTB1O"
   },
   "outputs": [],
   "source": [
    "seed = 42"
   ]
  },
  {
   "cell_type": "markdown",
   "metadata": {
    "colab_type": "text",
    "id": "AjVKMnBBc_j0"
   },
   "source": [
    "## Linear Regression"
   ]
  },
  {
   "cell_type": "code",
   "execution_count": null,
   "metadata": {
    "colab": {},
    "colab_type": "code",
    "id": "0mrIacpwc_j0"
   },
   "outputs": [],
   "source": [
    "linear_reg = LinearRegression()\n",
    "linear_reg.fit(X_train, y_train)\n",
    "lin_train = linear_reg.score(X_train, y_train)\n",
    "linear=linear_reg.score(X_test,y_test)\n",
    "lin_pred = linear_reg.predict(X_test)\n",
    "exp_lin = explained_variance_score(y_test,lin_pred)\n",
    "lin_r2=r2_score(y_test,lin_pred)\n",
    "mse_lin=mean_squared_error(y_test,lin_pred)"
   ]
  },
  {
   "cell_type": "markdown",
   "metadata": {
    "colab_type": "text",
    "id": "pmQJ4cPcc_j3"
   },
   "source": [
    "## Random Forest Regressor"
   ]
  },
  {
   "cell_type": "code",
   "execution_count": null,
   "metadata": {
    "colab": {},
    "colab_type": "code",
    "id": "_A7h-6sVc_j3"
   },
   "outputs": [],
   "source": [
    "rand_regr = RandomForestRegressor(random_state=seed)\n",
    "rand_regr.fit(X_train, y_train)\n",
    "rand_train = rand_regr.score(X_train, y_train)\n",
    "random=rand_regr.score(X_test,y_test)\n",
    "predictions = rand_regr.predict(X_test)\n",
    "exp_rand = explained_variance_score(y_test,predictions)\n",
    "rand_r2=r2_score(y_test,predictions)\n",
    "mse_rand=mean_squared_error(y_test,predictions)"
   ]
  },
  {
   "cell_type": "markdown",
   "metadata": {
    "colab_type": "text",
    "id": "HB7KlEqfc_j5"
   },
   "source": [
    "## Gradient Boosting Regressor"
   ]
  },
  {
   "cell_type": "code",
   "execution_count": null,
   "metadata": {
    "colab": {},
    "colab_type": "code",
    "id": "RdfBlmKmc_j6"
   },
   "outputs": [],
   "source": [
    "gbst=GradientBoostingRegressor(random_state=seed).fit(X_train, y_train)\n",
    "grad_train=gbst.score(X_train, y_train)\n",
    "gradient=gbst.score(X_test,y_test)\n",
    "pred = gbst.predict(X_test)\n",
    "exp_est = explained_variance_score(y_test,pred)\n",
    "gb_r2=r2_score(y_test,pred)\n",
    "mse_gb=mean_squared_error(y_test,pred)"
   ]
  },
  {
   "cell_type": "markdown",
   "metadata": {
    "colab_type": "text",
    "id": "9kCGo6zMc_j8"
   },
   "source": [
    "## Decision Tree Regressor"
   ]
  },
  {
   "cell_type": "code",
   "execution_count": null,
   "metadata": {
    "colab": {},
    "colab_type": "code",
    "id": "bMVhmXV9c_j8"
   },
   "outputs": [],
   "source": [
    "decision=DecisionTreeRegressor(random_state=seed)\n",
    "decision.fit(X_train, y_train)\n",
    "dec_train=decision.score(X_train, y_train)\n",
    "decc=decision.score(X_test,y_test)\n",
    "decpredict = decision.predict(X_test)\n",
    "exp_dec = explained_variance_score(y_test,decpredict)\n",
    "dec_r2 =r2_score(y_test,decpredict)\n",
    "mse_dec=mean_squared_error(y_test,decpredict)"
   ]
  },
  {
   "cell_type": "markdown",
   "metadata": {
    "colab_type": "text",
    "id": "R7VUf5g8c_kB"
   },
   "source": [
    "## R2 Scores"
   ]
  },
  {
   "cell_type": "code",
   "execution_count": null,
   "metadata": {
    "colab": {
     "base_uri": "https://localhost:8080/",
     "height": 166
    },
    "colab_type": "code",
    "executionInfo": {
     "elapsed": 12737,
     "status": "ok",
     "timestamp": 1597552409485,
     "user": {
      "displayName": "Dannon Choo",
      "photoUrl": "https://lh3.googleusercontent.com/a-/AOh14GhdtUj67GQ_ikEO4rMJN8QzdjQQ8Kv1CIGFq2ib=s64",
      "userId": "13104822539939925533"
     },
     "user_tz": -480
    },
    "hide_input": false,
    "id": "imKYqao9c_kC",
    "outputId": "39bac34f-f73c-43e0-955a-152919b7f7f9"
   },
   "outputs": [
    {
     "data": {
      "text/html": [
       "<div>\n",
       "<style scoped>\n",
       "    .dataframe tbody tr th:only-of-type {\n",
       "        vertical-align: middle;\n",
       "    }\n",
       "\n",
       "    .dataframe tbody tr th {\n",
       "        vertical-align: top;\n",
       "    }\n",
       "\n",
       "    .dataframe thead th {\n",
       "        text-align: right;\n",
       "    }\n",
       "</style>\n",
       "<table border=\"1\" class=\"dataframe\">\n",
       "  <thead>\n",
       "    <tr style=\"text-align: right;\">\n",
       "      <th></th>\n",
       "      <th>Model</th>\n",
       "      <th>Train Score</th>\n",
       "      <th>Score</th>\n",
       "      <th>Variance Score</th>\n",
       "      <th>R2 Score</th>\n",
       "      <th>Mean Squared Error</th>\n",
       "    </tr>\n",
       "  </thead>\n",
       "  <tbody>\n",
       "    <tr>\n",
       "      <th>1</th>\n",
       "      <td>Random Forest</td>\n",
       "      <td>0.981785</td>\n",
       "      <td>0.885305</td>\n",
       "      <td>0.885348</td>\n",
       "      <td>0.885305</td>\n",
       "      <td>0.033335</td>\n",
       "    </tr>\n",
       "    <tr>\n",
       "      <th>0</th>\n",
       "      <td>Gradient Boosting</td>\n",
       "      <td>0.876612</td>\n",
       "      <td>0.877294</td>\n",
       "      <td>0.877294</td>\n",
       "      <td>0.877294</td>\n",
       "      <td>0.035663</td>\n",
       "    </tr>\n",
       "    <tr>\n",
       "      <th>2</th>\n",
       "      <td>Decision Tree</td>\n",
       "      <td>0.997225</td>\n",
       "      <td>0.784799</td>\n",
       "      <td>0.784837</td>\n",
       "      <td>0.784799</td>\n",
       "      <td>0.062546</td>\n",
       "    </tr>\n",
       "    <tr>\n",
       "      <th>3</th>\n",
       "      <td>Linear Regression</td>\n",
       "      <td>0.763139</td>\n",
       "      <td>0.776372</td>\n",
       "      <td>0.776418</td>\n",
       "      <td>0.776372</td>\n",
       "      <td>0.064995</td>\n",
       "    </tr>\n",
       "  </tbody>\n",
       "</table>\n",
       "</div>"
      ],
      "text/plain": [
       "               Model  Train Score  ...  R2 Score  Mean Squared Error\n",
       "1      Random Forest     0.981785  ...  0.885305            0.033335\n",
       "0  Gradient Boosting     0.876612  ...  0.877294            0.035663\n",
       "2      Decision Tree     0.997225  ...  0.784799            0.062546\n",
       "3  Linear Regression     0.763139  ...  0.776372            0.064995\n",
       "\n",
       "[4 rows x 6 columns]"
      ]
     },
     "execution_count": 54,
     "metadata": {
      "tags": []
     },
     "output_type": "execute_result"
    }
   ],
   "source": [
    "# Comparing Models on the basis of Model's Accuracy Score and Explained Variance Score of different models\n",
    "# Show train value\n",
    "models_result = pd.DataFrame({\n",
    "    'Model': ['Gradient Boosting','Random Forest','Decision Tree','Linear Regression'],\n",
    "    'Train Score': [grad_train,rand_train,dec_train,lin_train],\n",
    "    'Score': [gradient,random,decc,linear],\n",
    "     'Variance Score': [exp_est,exp_rand,exp_dec,exp_lin],\n",
    "      'R2 Score' : [gb_r2,rand_r2,dec_r2,lin_r2],\n",
    "      'Mean Squared Error':[mse_gb,mse_rand,mse_dec,mse_lin]})\n",
    "    \n",
    "models_result.sort_values(by='Score', ascending=False)"
   ]
  },
  {
   "cell_type": "markdown",
   "metadata": {
    "colab_type": "text",
    "id": "VbmIPcWbc_kE"
   },
   "source": [
    "# Hyperparameter Tuning"
   ]
  },
  {
   "cell_type": "markdown",
   "metadata": {
    "colab_type": "text",
    "id": "qdYDfOW2c_kF"
   },
   "source": [
    "## Random Forest Regressor"
   ]
  },
  {
   "cell_type": "code",
   "execution_count": null,
   "metadata": {
    "colab": {
     "base_uri": "https://localhost:8080/",
     "height": 54
    },
    "colab_type": "code",
    "executionInfo": {
     "elapsed": 762,
     "status": "ok",
     "timestamp": 1597553909755,
     "user": {
      "displayName": "Dannon Choo",
      "photoUrl": "https://lh3.googleusercontent.com/a-/AOh14GhdtUj67GQ_ikEO4rMJN8QzdjQQ8Kv1CIGFq2ib=s64",
      "userId": "13104822539939925533"
     },
     "user_tz": -480
    },
    "id": "wfEM0xBNc_kF",
    "outputId": "3e39cc23-016c-4fb1-e50b-54750a3ed600"
   },
   "outputs": [
    {
     "name": "stdout",
     "output_type": "stream",
     "text": [
      "Best: 0.882476 using {'n_estimators': 600, 'criterion': 'mse', 'max_depth': None, 'max_features': 'auto', 'min_samples_split': 5, 'min_samples_leaf': 4}\n"
     ]
    }
   ],
   "source": [
    "param_grid = {\n",
    "    'n_estimators': [400,500,600],\n",
    "    'criterion': ['mse','mae'],\n",
    "    'max_depth': [None],\n",
    "    'max_features': ['auto', 'sqrt', 'log2'],\n",
    "    'min_samples_split': [4,5],\n",
    "    'min_samples_leaf':[4,5]\n",
    "}\n",
    "\n",
    "rf_model = RandomForestRegressor(random_state=seed)\n",
    "kfold = KFold(n_splits=10, random_state=seed)\n",
    "\n",
    "grid = GridSearchCV(estimator=rf_model,\n",
    "                    param_grid=param_grid,\n",
    "                    n_jobs= 4,\n",
    "                    cv=kfold)\n",
    "\n",
    "grid_result = grid.fit(X_train, y_train)\n",
    "\n",
    "print(\"Best: %f using %s\" % (grid_result.best_score_, grid_result.best_params_))\n"
   ]
  },
  {
   "cell_type": "code",
   "execution_count": null,
   "metadata": {
    "colab": {
     "base_uri": "https://localhost:8080/",
     "height": 34
    },
    "colab_type": "code",
    "executionInfo": {
     "elapsed": 44186,
     "status": "ok",
     "timestamp": 1597553957530,
     "user": {
      "displayName": "Dannon Choo",
      "photoUrl": "https://lh3.googleusercontent.com/a-/AOh14GhdtUj67GQ_ikEO4rMJN8QzdjQQ8Kv1CIGFq2ib=s64",
      "userId": "13104822539939925533"
     },
     "user_tz": -480
    },
    "id": "vls5LalZc_kH",
    "outputId": "8274b46a-713e-4ed6-9980-bd1a7e9a8bd2"
   },
   "outputs": [
    {
     "name": "stdout",
     "output_type": "stream",
     "text": [
      "r_squared for Random Forest Regressor =  0.8857941162798165\n"
     ]
    }
   ],
   "source": [
    "rf_model_ht = RandomForestRegressor(random_state=seed,\n",
    "                                  n_estimators=600, max_depth=None, min_samples_leaf=4, min_samples_split=5, max_features='auto', criterion='mse')\n",
    "rf_model_ht.fit(X_train, y_train)\n",
    "\n",
    "predHT_rf = rf_model_ht.predict(X_test)\n",
    "r_squared = r2_score(y_test, predHT_rf)\n",
    "print('r_squared for Random Forest Regressor = ', r_squared)"
   ]
  },
  {
   "cell_type": "markdown",
   "metadata": {
    "colab_type": "text",
    "id": "ix0E3k02c_kJ"
   },
   "source": [
    "## Gradient Boosting Regressor"
   ]
  },
  {
   "cell_type": "code",
   "execution_count": null,
   "metadata": {
    "colab": {
     "base_uri": "https://localhost:8080/",
     "height": 34
    },
    "colab_type": "code",
    "executionInfo": {
     "elapsed": 734,
     "status": "ok",
     "timestamp": 1597552550071,
     "user": {
      "displayName": "Dannon Choo",
      "photoUrl": "https://lh3.googleusercontent.com/a-/AOh14GhdtUj67GQ_ikEO4rMJN8QzdjQQ8Kv1CIGFq2ib=s64",
      "userId": "13104822539939925533"
     },
     "user_tz": -480
    },
    "id": "VyWDmvFHc_kL",
    "outputId": "b38c47fa-2446-428e-be9a-dc9799e06819"
   },
   "outputs": [
    {
     "name": "stdout",
     "output_type": "stream",
     "text": [
      "Best: 0.894058 using {'n_estimators': 400, 'max_depth': 5, 'loss': ls, 'min_samples_split': 2, 'learning_rate': 0.1}\n"
     ]
    }
   ],
   "source": [
    "param_grid = {\n",
    "    'n_estimators': [400,500,600,700,800],\n",
    "    'max_depth': [4,5],\n",
    "    'loss': ['ls', 'lad', 'huber', 'quantile'],\n",
    "    'min_samples_split': [2,3],\n",
    "    'learning_rate': [0.1],\n",
    "\n",
    "}\n",
    "model = GradientBoostingRegressor(random_state=seed)\n",
    "kfold = KFold(n_splits=10, random_state=seed)\n",
    "\n",
    "grid = GridSearchCV(estimator=model,\n",
    "                    param_grid=param_grid,\n",
    "                    n_jobs= 4,\n",
    "                    cv=kfold)\n",
    "\n",
    "grid_result = grid.fit(X_train, y_train)\n",
    "\n",
    "print(\"Best: %f using %s\" % (grid_result.best_score_, grid_result.best_params_))\n"
   ]
  },
  {
   "cell_type": "code",
   "execution_count": null,
   "metadata": {
    "colab": {
     "base_uri": "https://localhost:8080/",
     "height": 34
    },
    "colab_type": "code",
    "executionInfo": {
     "elapsed": 17503,
     "status": "ok",
     "timestamp": 1597552573456,
     "user": {
      "displayName": "Dannon Choo",
      "photoUrl": "https://lh3.googleusercontent.com/a-/AOh14GhdtUj67GQ_ikEO4rMJN8QzdjQQ8Kv1CIGFq2ib=s64",
      "userId": "13104822539939925533"
     },
     "user_tz": -480
    },
    "id": "4EwVGujqc_kN",
    "outputId": "f34aecba-0d16-4c7e-9f7b-90b49661f58a"
   },
   "outputs": [
    {
     "name": "stdout",
     "output_type": "stream",
     "text": [
      "r_squared for Gradient Boosting Regressor =  0.9001271774421215\n"
     ]
    }
   ],
   "source": [
    "model = GradientBoostingRegressor(random_state=seed,\n",
    "                                  n_estimators=400, max_depth=5, loss='ls',min_samples_split=2,learning_rate=0.1)\n",
    "model.fit(X_train, y_train)\n",
    "\n",
    "predHT = model.predict(X_test)\n",
    "r_squared = r2_score(y_test, predHT)\n",
    "print('r_squared for Gradient Boosting Regressor = ', r_squared)"
   ]
  },
  {
   "cell_type": "markdown",
   "metadata": {
    "colab_type": "text",
    "id": "MdGKWk1Lc_kQ"
   },
   "source": [
    "## Decision Tree Regressor"
   ]
  },
  {
   "cell_type": "code",
   "execution_count": null,
   "metadata": {
    "colab": {
     "base_uri": "https://localhost:8080/",
     "height": 34
    },
    "colab_type": "code",
    "executionInfo": {
     "elapsed": 947,
     "status": "ok",
     "timestamp": 1597554140573,
     "user": {
      "displayName": "Dannon Choo",
      "photoUrl": "https://lh3.googleusercontent.com/a-/AOh14GhdtUj67GQ_ikEO4rMJN8QzdjQQ8Kv1CIGFq2ib=s64",
      "userId": "13104822539939925533"
     },
     "user_tz": -480
    },
    "id": "pE-isDY9c_kQ",
    "outputId": "765c9152-d407-4450-8c69-0d8a459d25d5"
   },
   "outputs": [
    {
     "name": "stdout",
     "output_type": "stream",
     "text": [
      "Best: 0.834536 using {'criterion': 'mse', 'max_features': 'auto', 'min_samples_split': 100, 'splitter': 'best'}\n"
     ]
    }
   ],
   "source": [
    "param_grid = {\n",
    "    'criterion': [\"mse\", \"friedman_mse\", \"mae\"],\n",
    "    'splitter': [\"best\", \"random\"],\n",
    "    'max_features' : [\"auto\",\"sqrt\", \"log2\"],\n",
    "    'min_samples_split': [80,90,100]\n",
    "}\n",
    "\n",
    "dt_model = DecisionTreeRegressor(random_state=seed)\n",
    "kfold = KFold(n_splits=10, random_state=0)\n",
    "\n",
    "grid = GridSearchCV(estimator=dt_model,\n",
    "                    param_grid=param_grid,\n",
    "                    n_jobs= 4,\n",
    "                    cv=kfold)\n",
    "\n",
    "grid_result = grid.fit(X_train, y_train)\n",
    "\n",
    "print(\"Best: %f using %s\" % (grid_result.best_score_, grid_result.best_params_))\n"
   ]
  },
  {
   "cell_type": "code",
   "execution_count": null,
   "metadata": {
    "colab": {
     "base_uri": "https://localhost:8080/",
     "height": 34
    },
    "colab_type": "code",
    "executionInfo": {
     "elapsed": 680,
     "status": "ok",
     "timestamp": 1597554243991,
     "user": {
      "displayName": "Dannon Choo",
      "photoUrl": "https://lh3.googleusercontent.com/a-/AOh14GhdtUj67GQ_ikEO4rMJN8QzdjQQ8Kv1CIGFq2ib=s64",
      "userId": "13104822539939925533"
     },
     "user_tz": -480
    },
    "id": "UNaCn3BMc_kU",
    "outputId": "4fa3414a-6542-4836-82c4-ff1e388fb208"
   },
   "outputs": [
    {
     "name": "stdout",
     "output_type": "stream",
     "text": [
      "r_squared for Decision Tree Regressor =  0.843767355342727\n"
     ]
    }
   ],
   "source": [
    "dt_model_ht = DecisionTreeRegressor(random_state=seed, criterion='mse', max_features='auto', splitter='best', min_samples_split=100)\n",
    "dt_model_ht.fit(X_train, y_train)\n",
    "\n",
    "predHT_dt = dt_model_ht.predict(X_test)\n",
    "r_squared = r2_score(y_test, predHT_dt)\n",
    "print('r_squared for Decision Tree Regressor = ', r_squared)"
   ]
  },
  {
   "cell_type": "markdown",
   "metadata": {
    "colab_type": "text",
    "id": "du4sRAKxp5YE"
   },
   "source": [
    "# Ensemble"
   ]
  },
  {
   "cell_type": "code",
   "execution_count": null,
   "metadata": {
    "colab": {
     "base_uri": "https://localhost:8080/",
     "height": 34
    },
    "colab_type": "code",
    "executionInfo": {
     "elapsed": 298082,
     "status": "ok",
     "timestamp": 1597556661192,
     "user": {
      "displayName": "Dannon Choo",
      "photoUrl": "https://lh3.googleusercontent.com/a-/AOh14GhdtUj67GQ_ikEO4rMJN8QzdjQQ8Kv1CIGFq2ib=s64",
      "userId": "13104822539939925533"
     },
     "user_tz": -480
    },
    "id": "M9gn_a8fp78N",
    "outputId": "45945cd6-f336-4c39-d31c-8767336ec53f"
   },
   "outputs": [
    {
     "name": "stdout",
     "output_type": "stream",
     "text": [
      "r_squared for StackingRegressor =  0.9012746354024189\n"
     ]
    }
   ],
   "source": [
    "from sklearn.ensemble import StackingRegressor\n",
    "estimators = [('rf', rf_model_ht), ('gb', model), ('dt', dt_model_ht)]\n",
    "stack = StackingRegressor(estimators=estimators, final_estimator=linear_reg)\n",
    "stack.fit(X_train, y_train)\n",
    "\n",
    "pred_stack = stack.predict(X_test)\n",
    "r_squared_stack = r2_score(y_test, pred_stack)\n",
    "print('r_squared for StackingRegressor = ', r_squared_stack)"
   ]
  },
  {
   "cell_type": "markdown",
   "metadata": {
    "colab_type": "text",
    "id": "Imfz1VgY6U7e"
   },
   "source": [
    "# Feature Importance of Best Model"
   ]
  },
  {
   "cell_type": "code",
   "execution_count": null,
   "metadata": {
    "colab": {
     "base_uri": "https://localhost:8080/",
     "height": 446
    },
    "colab_type": "code",
    "executionInfo": {
     "elapsed": 1259,
     "status": "ok",
     "timestamp": 1597558345154,
     "user": {
      "displayName": "Dannon Choo",
      "photoUrl": "https://lh3.googleusercontent.com/a-/AOh14GhdtUj67GQ_ikEO4rMJN8QzdjQQ8Kv1CIGFq2ib=s64",
      "userId": "13104822539939925533"
     },
     "user_tz": -480
    },
    "id": "q-K7er4N4t25",
    "outputId": "39898947-8e94-4234-e858-0fc20e1932f3"
   },
   "outputs": [
    {
     "data": {
      "text/plain": [
       "<matplotlib.axes._subplots.AxesSubplot at 0x7f790905bf98>"
      ]
     },
     "execution_count": 97,
     "metadata": {
      "tags": []
     },
     "output_type": "execute_result"
    },
    {
     "data": {
      "image/png": "[encoded data removed]",
      "text/plain": [
       "<Figure size 1800x720 with 1 Axes>"
      ]
     },
     "metadata": {
      "needs_background": "light",
      "tags": []
     },
     "output_type": "display_data"
    }
   ],
   "source": [
    "#find the most important features used for Gradient Boosting Regressor\n",
    "features = pd.DataFrame()\n",
    "features['feature'] = trainData.columns\n",
    "features['importance'] = model.feature_importances_\n",
    "features.sort_values(by=['importance'], ascending=True, inplace=True)\n",
    "features.set_index('feature', inplace=True)\n",
    "\n",
    "features.plot(kind='barh', figsize=(25, 10))"
   ]
  },
  {
   "cell_type": "markdown",
   "metadata": {
    "colab_type": "text",
    "id": "EtBPuEQFzfA1"
   },
   "source": [
    "# Conclusion"
   ]
  },
  {
   "cell_type": "markdown",
   "metadata": {
    "colab_type": "text",
    "id": "fHYkLSFJzhmH"
   },
   "source": [
    "1. How is your prediction task defined? And what is the meaning of the output variable?<br>\n",
    "<br>\n",
    "- It is a regression. The output variable is the predicted value of the house price.<br>\n",
    "<br>\n",
    "\n",
    "2. How do you represent your data as features?<br>\n",
    "<br>\n",
    "- Some columns were feature engineered to give the models better data.<br>\n",
    "<br>\n",
    "\n",
    "3. Did you process the features in any way?<br>\n",
    "<br>\n",
    "- The sqft_basement and yr_renovated were feature engineered into 0 and 1 (no or yes) values.<br>\n",
    "<br>\n",
    "\n",
    "4. Did you bring in any additional sources of data?<br>\n",
    "<br>\n",
    "- Some notebooks that had hyperparameter tuning and feature engineering were used as reference.<br>\n",
    "<br>\n",
    "\n",
    "5. How did you select which learning algorithms to use?<br>\n",
    "<br>\n",
    "- Linear Regression is the most basic and commonly used algorithm for regression.<br>\n",
    "- Random Forest Regressors usually have high accuracy.<br>\n",
    "<br>\n",
    "\n",
    "6. Did you try to tune the hyperparameters of the learning algorithm, and in that case how?<br>\n",
    "<br>\n",
    "- GridSearchCV was used to find the best parameters for the different models and K Fold was used.<br>\n",
    "<br>\n",
    "\n",
    "7. How do you evaluate the quality of your system?<br>\n",
    "<br>\n",
    "- r2_score, explained_variance_score and mean_squared_error were used to find out how well the model did.<br>\n",
    "<br>\n",
    "\n",
    "8. Can you say anything about the errors that the system makes?<br>\n",
    "<br>\n",
    "The models have a relatively low mse score, which means that they are good models.<br>\n",
    "<br>\n",
    "\n",
    "9. Is it possible to say something about which features the model considers important?<br>\n",
    "<br>\n",
    "- The Gradient Boosting Regressor considers grade to be the most important feature. This makes sense as having higher quality level of construction and design would require more money, therefore increasing the price of the house.\n",
    "- sqft_living is also very important as larger houses would usually hace higher prices.\n",
    "- Zipcode, Latitude and Longtitude are important as houses with similar prices are usually located near each other."
   ]
  },
  {
   "cell_type": "markdown",
   "metadata": {
    "colab_type": "text",
    "id": "CNmcRu50c_kY"
   },
   "source": [
    "# References"
   ]
  },
  {
   "cell_type": "markdown",
   "metadata": {
    "colab_type": "text",
    "id": "Vbe-cH0ec_kY"
   },
   "source": [
    "- https://github.com/sid321axn/housing_price_prediction_king_county_USA/blob/master/house_county.ipynb\n",
    "- https://scikit-learn.org/stable/modules/generated/sklearn.ensemble.RandomForestRegressor.html\n",
    "- https://www.silect.is/blog/2019/4/2/random-forest-in-spark-ml\n",
    "- https://bhishanpdl.github.io/Projects/House_Price_Prediction/c03_regression_modelling_sklearn_methods.html\n",
    "- https://towardsdatascience.com/hyperparameter-tuning-the-random-forest-in-python-using-scikit-learn-28d2aa77dd74\n",
    "- https://colab.research.google.com/github/dlsun/pods/blob/master/05-Regression-Models/5.7%20Ensemble%20Methods%20for%20Regression.ipynb#scrollTo=Gbqi2fD2raSW\n",
    "- https://machinelearningmastery.com/stacking-ensemble-machine-learning-with-python/"
   ]
  },
  {
   "cell_type": "code",
   "execution_count": null,
   "metadata": {
    "colab": {},
    "colab_type": "code",
    "id": "24_o9Ypec_kZ"
   },
   "outputs": [],
   "source": []
  }
 ],
 "metadata": {
  "colab": {
   "collapsed_sections": [],
   "name": "CA2_KC.ipynb",
   "provenance": [],
   "toc_visible": true
  },
  "kernelspec": {
   "display_name": "Python 3",
   "language": "python",
   "name": "python3"
  },
  "language_info": {
   "codemirror_mode": {
    "name": "ipython",
    "version": 3
   },
   "file_extension": ".py",
   "mimetype": "text/x-python",
   "name": "python",
   "nbconvert_exporter": "python",
   "pygments_lexer": "ipython3",
   "version": "3.8.3"
  },
  "toc": {
   "base_numbering": 1,
   "nav_menu": {},
   "number_sections": true,
   "sideBar": false,
   "skip_h1_title": false,
   "title_cell": "Table of Contents",
   "title_sidebar": "Contents",
   "toc_cell": false,
   "toc_position": {
    "height": "35px",
    "left": "76px",
    "top": "190.8px",
    "width": "153px"
   },
   "toc_section_display": false,
   "toc_window_display": false
  }
 },
 "nbformat": 4,
 "nbformat_minor": 1
}
